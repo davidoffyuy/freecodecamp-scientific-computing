{
 "cells": [
  {
   "cell_type": "code",
   "execution_count": 24,
   "metadata": {},
   "outputs": [
    {
     "name": "stdout",
     "output_type": "stream",
     "text": [
      "dict_items([('black', 1), ('red', 2), ('orange', 4)])\n",
      "dict_items([('nick1', 'Di'), ('nick2', 'An')])\n"
     ]
    }
   ],
   "source": [
    "mylist = {\"black\": 1, \"red\": 2, \"orange\": 4}\n",
    "\n",
    "def myFunct(name, **kwargs):\n",
    "\n",
    "    print(kwargs.items())\n",
    "\n",
    "myFunct(\"David\", **mylist)\n",
    "myFunct(\"Diane\", nick1=\"Di\", nick2=\"An\")\n",
    "\n"
   ]
  }
 ],
 "metadata": {
  "kernelspec": {
   "display_name": "base",
   "language": "python",
   "name": "python3"
  },
  "language_info": {
   "codemirror_mode": {
    "name": "ipython",
    "version": 3
   },
   "file_extension": ".py",
   "mimetype": "text/x-python",
   "name": "python",
   "nbconvert_exporter": "python",
   "pygments_lexer": "ipython3",
   "version": "3.9.13"
  },
  "orig_nbformat": 4,
  "vscode": {
   "interpreter": {
    "hash": "ea8238db6dc1fe8cf6fe83219457bde9bcbcde2053d40c59d2e78211d10c5fee"
   }
  }
 },
 "nbformat": 4,
 "nbformat_minor": 2
}
